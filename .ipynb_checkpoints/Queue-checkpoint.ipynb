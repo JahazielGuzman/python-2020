{
 "cells": [
  {
   "cell_type": "code",
   "execution_count": 20,
   "metadata": {},
   "outputs": [],
   "source": [
    "class Queue:\n",
    "    \n",
    "    def __init__(self, size):\n",
    "        self.size = size\n",
    "        self.count = 0\n",
    "        self.front = 0\n",
    "        self.back = 0\n",
    "        self.queue = [None] * size\n",
    "    \n",
    "    def enqueue(self, item):\n",
    "        if self.full():\n",
    "            raise IndexError\n",
    "        \n",
    "        self.queue[self.back % self.size] = item\n",
    "        self.count += 1\n",
    "        self.back += 1\n",
    "        \n",
    "    def dequeue(self):\n",
    "        \n",
    "        if self.empty():\n",
    "            raise IndexError\n",
    "        \n",
    "        popped = self.queue[self.front % self.size]\n",
    "        self.queue[self.front % self.size] = None\n",
    "        self.count -= 1\n",
    "        self.front += 1\n",
    "        return popped\n",
    "    \n",
    "    def reverse(self):\n",
    "        \n",
    "        stack = []\n",
    "        while not self.empty():\n",
    "            stack.append(self.dequeue())\n",
    "        \n",
    "        while len(stack):\n",
    "            self.enqueue(stack.pop())\n",
    "    \n",
    "    def empty(self):\n",
    "        return self.count == 0\n",
    "    \n",
    "    def full(self):\n",
    "        return self.count == self.size"
   ]
  },
  {
   "cell_type": "code",
   "execution_count": 21,
   "metadata": {},
   "outputs": [],
   "source": [
    "q = Queue(5)"
   ]
  },
  {
   "cell_type": "code",
   "execution_count": 22,
   "metadata": {},
   "outputs": [],
   "source": [
    "q.enqueue(1); q.enqueue(2); q.enqueue(3); q.enqueue(4); q.enqueue(5);"
   ]
  },
  {
   "cell_type": "code",
   "execution_count": 23,
   "metadata": {},
   "outputs": [
    {
     "data": {
      "text/plain": [
       "[1, 2, 3, 4, 5]"
      ]
     },
     "execution_count": 23,
     "metadata": {},
     "output_type": "execute_result"
    }
   ],
   "source": [
    "q.queue"
   ]
  },
  {
   "cell_type": "code",
   "execution_count": 24,
   "metadata": {},
   "outputs": [],
   "source": [
    "q.reverse()"
   ]
  },
  {
   "cell_type": "code",
   "execution_count": 25,
   "metadata": {},
   "outputs": [
    {
     "data": {
      "text/plain": [
       "[5, 4, 3, 2, 1]"
      ]
     },
     "execution_count": 25,
     "metadata": {},
     "output_type": "execute_result"
    }
   ],
   "source": [
    "q.queue"
   ]
  },
  {
   "cell_type": "code",
   "execution_count": 26,
   "metadata": {},
   "outputs": [],
   "source": [
    "q.reverse()"
   ]
  },
  {
   "cell_type": "code",
   "execution_count": 27,
   "metadata": {},
   "outputs": [
    {
     "data": {
      "text/plain": [
       "[1, 2, 3, 4, 5]"
      ]
     },
     "execution_count": 27,
     "metadata": {},
     "output_type": "execute_result"
    }
   ],
   "source": [
    "q.queue"
   ]
  },
  {
   "cell_type": "markdown",
   "metadata": {},
   "source": [
    "# AND NOW FOR A QUEUE FROM 2 STACKS"
   ]
  },
  {
   "cell_type": "code",
   "execution_count": 42,
   "metadata": {},
   "outputs": [],
   "source": [
    "class StacksQueue:\n",
    "    \n",
    "    def __init__(self, size):\n",
    "        self.size = size\n",
    "        self.count = 0\n",
    "        self.front_stack = [] * size\n",
    "        self.back_stack = [] * size\n",
    "    \n",
    "    def enqueue(self, item):\n",
    "        if self.full():\n",
    "            raise IndexError\n",
    "        \n",
    "        self.back_stack.append(item)\n",
    "        self.count += 1\n",
    "        \n",
    "    def dequeue(self):\n",
    "        \n",
    "        if self.empty():\n",
    "            raise IndexError\n",
    "        \n",
    "        while len(self.back_stack):\n",
    "            self.front_stack.append(self.back_stack.pop())\n",
    "        popped = self.front_stack.pop()\n",
    "        \n",
    "        while len(self.front_stack):\n",
    "            self.back_stack.append(self.front_stack.pop())\n",
    "        self.count -= 1\n",
    "        return popped\n",
    "    \n",
    "    def reverse(self):\n",
    "        \n",
    "        stack = []\n",
    "        while not self.empty():\n",
    "            stack.append(self.dequeue())\n",
    "        \n",
    "        while len(stack):\n",
    "            self.enqueue(stack.pop())\n",
    "    \n",
    "    def empty(self):\n",
    "        return self.count == 0\n",
    "    \n",
    "    def full(self):\n",
    "        return self.count == self.size\n",
    "    \n",
    "    def __repr__(self):\n",
    "        return str(self.back_stack)"
   ]
  },
  {
   "cell_type": "code",
   "execution_count": 54,
   "metadata": {},
   "outputs": [],
   "source": [
    "sq = StacksQueue(5)"
   ]
  },
  {
   "cell_type": "code",
   "execution_count": 55,
   "metadata": {},
   "outputs": [],
   "source": [
    "sq.enqueue(1); sq.enqueue(2); sq.enqueue(3); sq.dequeue();"
   ]
  },
  {
   "cell_type": "code",
   "execution_count": 59,
   "metadata": {},
   "outputs": [],
   "source": [
    "sq.enqueue(5)"
   ]
  },
  {
   "cell_type": "code",
   "execution_count": null,
   "metadata": {},
   "outputs": [],
   "source": []
  }
 ],
 "metadata": {
  "kernelspec": {
   "display_name": "Python 3",
   "language": "python",
   "name": "python3"
  },
  "language_info": {
   "codemirror_mode": {
    "name": "ipython",
    "version": 3
   },
   "file_extension": ".py",
   "mimetype": "text/x-python",
   "name": "python",
   "nbconvert_exporter": "python",
   "pygments_lexer": "ipython3",
   "version": "3.6.7"
  }
 },
 "nbformat": 4,
 "nbformat_minor": 4
}
