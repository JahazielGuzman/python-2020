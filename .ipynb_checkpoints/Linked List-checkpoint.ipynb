{
 "cells": [
  {
   "cell_type": "code",
   "execution_count": 3,
   "metadata": {},
   "outputs": [],
   "source": [
    "class Node:\n",
    "    \n",
    "    def __init__(self, data):\n",
    "        self.data = data\n",
    "        self.next = None"
   ]
  },
  {
   "cell_type": "code",
   "execution_count": 4,
   "metadata": {},
   "outputs": [
    {
     "data": {
      "text/plain": [
       "<__main__.Node at 0x7f44a4c31e48>"
      ]
     },
     "execution_count": 4,
     "metadata": {},
     "output_type": "execute_result"
    }
   ],
   "source": [
    "Node(5)"
   ]
  },
  {
   "cell_type": "code",
   "execution_count": 117,
   "metadata": {},
   "outputs": [],
   "source": [
    "class SinglyLinked:\n",
    "    \n",
    "    def __init__(self):\n",
    "        self.head = None\n",
    "        self.tail = None\n",
    "    \n",
    "    def empty(self):\n",
    "        return self.head == None\n",
    "    \n",
    "    def push_back(self, data):\n",
    "        new_node = Node(data)\n",
    "        if self.empty():\n",
    "            self.head = self.tail = new_node\n",
    "        else:\n",
    "            self.tail.next = new_node\n",
    "            self.tail = new_node\n",
    "    \n",
    "    def push_front(self, data):\n",
    "        \n",
    "        new_node = Node(data)\n",
    "        if self.empty():\n",
    "            self.head = self.tail = new_node\n",
    "        else:\n",
    "            new_node.next = self.head\n",
    "            self.head = new_node\n",
    "    \n",
    "    def remove_front(self):\n",
    "        \n",
    "        if self.empty():\n",
    "           raise IndexError\n",
    "        if self.head == self.tail:\n",
    "            self.head = self.tail = None\n",
    "        \n",
    "        to_remove = self.head\n",
    "        self.head = self.head.next\n",
    "        to_remove.next = None\n",
    "    \n",
    "    def remove_back(self):\n",
    "        \n",
    "        if self.empty():\n",
    "            raise IndexError\n",
    "        if self.head == self.tail:\n",
    "            self.head = self.tail = None\n",
    "        \n",
    "        # get previous element\n",
    "        to_remove = self.tail\n",
    "        previous = self.previous(to_remove)\n",
    "        # remove link to last node, tail points to previous node as new tail\n",
    "        if previous != None:\n",
    "            previous.next = None\n",
    "            self.tail = previous\n",
    "    \n",
    "    def previous(self, node):\n",
    "        \n",
    "        if self.empty():\n",
    "            raise IndexError\n",
    "        \n",
    "        current = self.head\n",
    "        while current.next != None:\n",
    "            if current.next == node:\n",
    "                return current\n",
    "            current = current.next\n",
    "        \n",
    "        return None\n",
    "            \n",
    "    def index(self, data):\n",
    "        \n",
    "        count = 0\n",
    "        current = self.head\n",
    "        \n",
    "        while current != None:\n",
    "            if current.data == data:\n",
    "                return count\n",
    "            current = current.next\n",
    "            count += 1\n",
    "        \n",
    "        return -1\n",
    "    \n",
    "    def contains(self, data):\n",
    "        \n",
    "        index = self.index(data)\n",
    "        \n",
    "        return True if index != -1 else False\n",
    "    \n",
    "    def reverse(self):\n",
    "        \n",
    "        p = None\n",
    "        q = self.head\n",
    "        while q != None:\n",
    "            r = q.next\n",
    "            q.next = p\n",
    "            p = q\n",
    "            q = r\n",
    "        self.tail = self.head\n",
    "        self.head = q\n",
    "        \n",
    "    def __str__(self):\n",
    "        \n",
    "        current = self.head\n",
    "        list_string = \"\"\n",
    "        while current != None:\n",
    "            list_string = list_string + str(current.data) + \",\"\n",
    "            current = current.next\n",
    "        return list_string\n",
    "    \n",
    "    "
   ]
  },
  {
   "cell_type": "code",
   "execution_count": 118,
   "metadata": {},
   "outputs": [],
   "source": [
    "sll = SinglyLinked()"
   ]
  },
  {
   "cell_type": "code",
   "execution_count": 119,
   "metadata": {},
   "outputs": [],
   "source": [
    "sll.push_back(1)"
   ]
  },
  {
   "cell_type": "code",
   "execution_count": 120,
   "metadata": {},
   "outputs": [],
   "source": [
    "sll.push_back(2)"
   ]
  },
  {
   "cell_type": "code",
   "execution_count": 121,
   "metadata": {},
   "outputs": [],
   "source": [
    "sll.push_back(3)"
   ]
  },
  {
   "cell_type": "code",
   "execution_count": 122,
   "metadata": {},
   "outputs": [],
   "source": [
    "sll.push_front(5)"
   ]
  },
  {
   "cell_type": "code",
   "execution_count": 123,
   "metadata": {},
   "outputs": [],
   "source": [
    "sll.push_back(7)"
   ]
  },
  {
   "cell_type": "code",
   "execution_count": 124,
   "metadata": {},
   "outputs": [
    {
     "name": "stdout",
     "output_type": "stream",
     "text": [
      "5,1,2,3,7,\n"
     ]
    }
   ],
   "source": [
    "print(sll)"
   ]
  },
  {
   "cell_type": "code",
   "execution_count": 125,
   "metadata": {},
   "outputs": [],
   "source": [
    "sll.remove_front()"
   ]
  },
  {
   "cell_type": "code",
   "execution_count": 126,
   "metadata": {},
   "outputs": [
    {
     "name": "stdout",
     "output_type": "stream",
     "text": [
      "1,2,3,7,\n"
     ]
    }
   ],
   "source": [
    "print(sll)"
   ]
  },
  {
   "cell_type": "code",
   "execution_count": 127,
   "metadata": {},
   "outputs": [],
   "source": [
    "sll.remove_back()"
   ]
  },
  {
   "cell_type": "code",
   "execution_count": 128,
   "metadata": {},
   "outputs": [
    {
     "name": "stdout",
     "output_type": "stream",
     "text": [
      "1,2,3,\n"
     ]
    }
   ],
   "source": [
    "print(sll)"
   ]
  },
  {
   "cell_type": "code",
   "execution_count": 129,
   "metadata": {},
   "outputs": [
    {
     "data": {
      "text/plain": [
       "2"
      ]
     },
     "execution_count": 129,
     "metadata": {},
     "output_type": "execute_result"
    }
   ],
   "source": [
    "sll.index(3)"
   ]
  },
  {
   "cell_type": "code",
   "execution_count": null,
   "metadata": {},
   "outputs": [],
   "source": []
  }
 ],
 "metadata": {
  "kernelspec": {
   "display_name": "Python 3",
   "language": "python",
   "name": "python3"
  },
  "language_info": {
   "codemirror_mode": {
    "name": "ipython",
    "version": 3
   },
   "file_extension": ".py",
   "mimetype": "text/x-python",
   "name": "python",
   "nbconvert_exporter": "python",
   "pygments_lexer": "ipython3",
   "version": "3.6.7"
  }
 },
 "nbformat": 4,
 "nbformat_minor": 4
}
